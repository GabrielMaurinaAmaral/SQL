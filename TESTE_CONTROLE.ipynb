{
 "cells": [
  {
   "cell_type": "code",
   "execution_count": 2,
   "metadata": {},
   "outputs": [
    {
     "name": "stdout",
     "output_type": "stream",
     "text": [
      "Melhor combinação: R2=99000, R4=65000\n",
      "Pontuação: 998022.7931600481\n",
      "0.001\n"
     ]
    },
    {
     "name": "stderr",
     "output_type": "stream",
     "text": [
      "C:\\Users\\GABRIEL\\AppData\\Local\\Temp\\ipykernel_25768\\2819802736.py:13: RuntimeWarning: overflow encountered in scalar multiply\n",
      "  KP = (R2 * R4) / (R1 * R3)\n"
     ]
    }
   ],
   "source": [
    "import numpy as np\n",
    "\n",
    "# Valores desejados\n",
    "KP_target = 1.4\n",
    "Ti_target = 1000  # Exemplo de valor desejado para Ti\n",
    "\n",
    "C2 = 0.00001  # 10uF conhecido\n",
    "R1 = 200000  # 200k conhecido\n",
    "R3 = 200000  # 200k conhecido\n",
    "\n",
    "# Função objetivo atualizada: minimizar a diferença entre KP, Ti e seus valores desejados\n",
    "def objective(R2, R4):\n",
    "    KP = (R2 * R4) / (R1 * R3)\n",
    "    Ti = R2 * C2\n",
    "    return (KP - KP_target)**2 + (Ti - Ti_target)**2\n",
    "\n",
    "# Espaço de busca\n",
    "R_values = np.arange(10000, 100000, 1000)  # De 10k a 100k, passos de 1k\n",
    "\n",
    "# Busca em grade simplificada\n",
    "best_score = float('inf')\n",
    "best_combination = None\n",
    "\n",
    "for R2 in R_values:\n",
    "    for R4 in R_values:\n",
    "        score = objective(R2, R4)\n",
    "        if score < best_score:\n",
    "            best_score = score\n",
    "            best_combination = (R2, R4)\n",
    "\n",
    "print(f\"Melhor combinação: R2={best_combination[0]}, R4={best_combination[1]}\")\n",
    "print(f\"Pontuação: {best_score}\")\n",
    "print(1/Ti_target)"
   ]
  }
 ],
 "metadata": {
  "kernelspec": {
   "display_name": "Python 3",
   "language": "python",
   "name": "python3"
  },
  "language_info": {
   "codemirror_mode": {
    "name": "ipython",
    "version": 3
   },
   "file_extension": ".py",
   "mimetype": "text/x-python",
   "name": "python",
   "nbconvert_exporter": "python",
   "pygments_lexer": "ipython3",
   "version": "3.12.3"
  }
 },
 "nbformat": 4,
 "nbformat_minor": 2
}
